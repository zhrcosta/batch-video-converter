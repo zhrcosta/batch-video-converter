{
 "metadata": {
  "language_info": {
   "codemirror_mode": {
    "name": "ipython",
    "version": 3
   },
   "file_extension": ".py",
   "mimetype": "text/x-python",
   "name": "python",
   "nbconvert_exporter": "python",
   "pygments_lexer": "ipython3",
   "version": "3.8.8"
  },
  "orig_nbformat": 2,
  "kernelspec": {
   "name": "python3",
   "display_name": "Python 3.8.8 64-bit ('k38': conda)",
   "metadata": {
    "interpreter": {
     "hash": "3726e722d2dbd5928967e3e68a46031960244da4a2d52e2d9ad1ff6e02272591"
    }
   }
  }
 },
 "nbformat": 4,
 "nbformat_minor": 2,
 "cells": [
  {
   "cell_type": "code",
   "execution_count": 1,
   "metadata": {},
   "outputs": [],
   "source": [
    "import os"
   ]
  },
  {
   "cell_type": "code",
   "execution_count": 2,
   "metadata": {},
   "outputs": [],
   "source": [
    "c = os.getcwd()"
   ]
  },
  {
   "cell_type": "code",
   "execution_count": 1,
   "metadata": {
    "tags": []
   },
   "outputs": [],
   "source": [
    "def videoConverter(source, output, videoFormat):\n",
    "\n",
    "    import os\n",
    "    import moviepy.editor as moviepy\n",
    "\n",
    "    video_type = ['webm', 'mpg', 'mp2', 'mpeg', 'mpe', 'mpv', 'ogg', 'mp4', 'm4p', 'm4v', 'avi', 'wmv', 'mov', 'qt', 'flv', 'swf', 'avchd']\n",
    "    list_directoy = []\n",
    "    video_list = []\n",
    "\n",
    "    output_name = f'{output}/{videoFormat.upper()}'\n",
    "    \n",
    "\n",
    "    # Lista todos as sub pastas a partir da pasta raiz informada\n",
    "    for item in os.listdir(source):\n",
    "        if os.path.isdir(item) and not item[0] == \".\":\n",
    "            list_directoy.append(item)\n",
    "\n",
    "    os.mkdir(output_name)\n",
    "\n",
    "    # Lista todos os arquivos para cada diretótio em |list_directoy|\n",
    "    for folder in list_directoy:\n",
    "        list_files = os.listdir(folder)\n",
    "        save = f'{output_name}/{folder}'\n",
    "        os.mkdir(save)\n",
    "        print(folder)\n",
    "        \n",
    "        # Verifica se os arquivos listados no diretório e armazenados em |list_files| são arquivos de video\n",
    "        for file in list_files:\n",
    "            original_file, ext = os.path.splitext(file)\n",
    "            ext = ext.replace(\".\",\"\")            \n",
    "            \n",
    "            # Se for um arquivo de video, o path completo é armazenado em |video_list|\n",
    "            if ext in video_type:\n",
    "                video_list.append(f'{folder}/{file}')\n",
    "\n",
    "            # Converte os arquivos\n",
    "            for video in video_list:\n",
    "                convert_video = moviepy.VideoFileClip(video)\n",
    "                convert_video.write_videofile(f'{save}/{file}')\n",
    "        \n",
    "        video_list = []\n",
    "\n"
   ]
  },
  {
   "cell_type": "code",
   "execution_count": 2,
   "metadata": {},
   "outputs": [
    {
     "output_type": "error",
     "ename": "NameError",
     "evalue": "name 'c' is not defined",
     "traceback": [
      "\u001b[0;31m---------------------------------------------------------------------------\u001b[0m",
      "\u001b[0;31mNameError\u001b[0m                                 Traceback (most recent call last)",
      "\u001b[0;32m<ipython-input-2-264dfec016b6>\u001b[0m in \u001b[0;36m<module>\u001b[0;34m\u001b[0m\n\u001b[0;32m----> 1\u001b[0;31m \u001b[0mvideoConverter\u001b[0m\u001b[0;34m(\u001b[0m\u001b[0mc\u001b[0m\u001b[0;34m,\u001b[0m \u001b[0;34m\".\"\u001b[0m\u001b[0;34m,\u001b[0m \u001b[0;34m\"mp4\"\u001b[0m\u001b[0;34m)\u001b[0m\u001b[0;34m\u001b[0m\u001b[0;34m\u001b[0m\u001b[0m\n\u001b[0m",
      "\u001b[0;31mNameError\u001b[0m: name 'c' is not defined"
     ]
    }
   ],
   "source": [
    "videoConverter(c, \".\", \"mp4\")"
   ]
  },
  {
   "cell_type": "code",
   "execution_count": null,
   "metadata": {},
   "outputs": [],
   "source": []
  }
 ]
}