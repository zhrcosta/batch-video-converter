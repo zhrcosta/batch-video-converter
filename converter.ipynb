{
 "metadata": {
  "language_info": {
   "codemirror_mode": {
    "name": "ipython",
    "version": 3
   },
   "file_extension": ".py",
   "mimetype": "text/x-python",
   "name": "python",
   "nbconvert_exporter": "python",
   "pygments_lexer": "ipython3",
   "version": "3.8.8"
  },
  "orig_nbformat": 2,
  "kernelspec": {
   "name": "python3",
   "display_name": "Python 3.8.8 64-bit ('k38': conda)",
   "metadata": {
    "interpreter": {
     "hash": "3726e722d2dbd5928967e3e68a46031960244da4a2d52e2d9ad1ff6e02272591"
    }
   }
  }
 },
 "nbformat": 4,
 "nbformat_minor": 2,
 "cells": [
  {
   "cell_type": "code",
   "execution_count": 1,
   "metadata": {
    "tags": []
   },
   "outputs": [],
   "source": [
    "def converter(source, output, ext, **kwargs):\n",
    "    import os\n",
    "    import moviepy.editor as moviepy\n",
    "\n",
    "    if source[-1] != \"/\":\n",
    "        source = source + \"/\"\n",
    "\n",
    "    if output[-1] != \"/\":\n",
    "        output = output + \"/\"\n",
    "\n",
    "    video_format = ['webm', 'mpg', 'mp2', 'mpeg', 'mpe', 'mpv', 'ogg', 'mp4', 'm4p', 'm4v', 'avi', 'wmv', 'mov', 'qt', 'flv', 'swf', 'avchd']\n",
    "\n",
    "    dir_name = []\n",
    "    dir_path = []\n",
    "\n",
    "    \n",
    "\n",
    "    for item in os.listdir(source):\n",
    "        if os.path.isdir(f'{source}{item}') and not item[0] == \".\":\n",
    "            dir_name.append(item)\n",
    "            dir_path.append(f'{source}{item}/')\n",
    "\n",
    "    output_path = f'{output}{ext.upper()}'\n",
    "    os.mkdir(output_path)\n",
    "    \n",
    "    for index in range(len(dir_path)):\n",
    "        video_list = []\n",
    "        video_name = []\n",
    "\n",
    "        for file in os.listdir(dir_path[index]):\n",
    "            file_name, ext = os.path.splitext(file)\n",
    "            ext = ext.replace(\".\",\"\")\n",
    "\n",
    "            if ext in video_format:\n",
    "                video_list.append(f'{dir_path[index]}{file}')\n",
    "                video_name.append(file_name)\n",
    "                \n",
    "\n",
    "        out = f'{output_path}/{dir_name[index]}'\n",
    "        os.mkdir(out)\n",
    "        \n",
    "        for video_index in range(len(video_list)):\n",
    "            print(video_list[video_index])\n",
    "\n",
    "            video_file = moviepy.VideoFileClip(video_list[video_index])\n",
    "            video_file.write_videofile(f'{out}/{video_name[video_index]}.{ext.lower()}')\n"
   ]
  },
  {
   "cell_type": "code",
   "execution_count": null,
   "metadata": {},
   "outputs": [],
   "source": []
  }
 ]
}